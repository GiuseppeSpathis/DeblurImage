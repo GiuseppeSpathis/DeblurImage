{
  "cells": [
    {
      "cell_type": "markdown",
      "metadata": {
        "id": "bacEDFoO3XOz"
      },
      "source": [
        "#Deblurring di immagini mosse\n",
        "\n",
        "Il progetto riguarda il deblurirng di immagini. Il tipo di \"blur\" in questione è ottenuto mediante sovrapposizione di immagini leggermente traslate a partire dall'originale, lungo un tragitto randomico.\n",
        "\n",
        "Questo tipo di blur ntende simulare il risultato del tremolio della mano per riprese con tempo di esposizione prolungato.\n"
      ]
    },
    {
      "cell_type": "code",
      "execution_count": 1,
      "metadata": {
        "id": "tXq5YKgoyJdX"
      },
      "outputs": [],
      "source": [
        "\n",
        "from keras.models import Model\n",
        "from tensorflow.keras import layers\n",
        "import tensorflow as tf\n",
        "from keras.layers import Input, Conv2D, MaxPooling2D, UpSampling2D, Flatten, Dense, Reshape, Conv2DTranspose, BatchNormalization, Dropout\n",
        "from keras.regularizers import l1, l2\n",
        "from keras.datasets import mnist\n",
        "from sklearn.model_selection import train_test_split\n",
        "import numpy as np\n",
        "import matplotlib.pyplot as plt\n",
        "from tensorflow.keras import backend as K\n",
        "from keras.optimizers import Adam\n",
        "from tensorflow.keras.losses import MeanSquaredError\n",
        "from tensorflow.keras.models import load_model"
      ]
    },
    {
      "cell_type": "markdown",
      "metadata": {
        "id": "VMXlh4Cz4_Vk"
      },
      "source": [
        "Lavoriamo da immagini ottenute a partire da MNIST."
      ]
    },
    {
      "cell_type": "code",
      "execution_count": 2,
      "metadata": {
        "colab": {
          "base_uri": "https://localhost:8080/"
        },
        "id": "Sb-6a1ZsyuC5",
        "outputId": "fdf1e17c-c3e7-44f2-e10e-ef5ecfd0ae62"
      },
      "outputs": [
        {
          "name": "stdout",
          "output_type": "stream",
          "text": [
            "Downloading data from https://storage.googleapis.com/tensorflow/tf-keras-datasets/mnist.npz\n",
            "11490434/11490434 [==============================] - 0s 0us/step\n"
          ]
        }
      ],
      "source": [
        "\n",
        "(x_train, y_train), (x_test, y_test) = mnist.load_data()\n",
        "x_train = np.expand_dims(x_train, axis=-1).astype('float32') / 255.0\n",
        "x_test = np.expand_dims(x_test, axis=-1).astype('float32') / 255.0\n",
        "\n",
        "# Divido i dati in training e validation set\n",
        "x_train, x_valid = train_test_split(x_train, test_size=0.2, random_state=42)"
      ]
    },
    {
      "cell_type": "markdown",
      "metadata": {
        "id": "z6c89m6z5J7N"
      },
      "source": [
        "Qui viene fornito il generatore che dovete utilizzare per il vostro progetto.\n",
        "Non modificate in numero di mosse (10), nè il range della traslazione.\n",
        "\n",
        "Siete liberi di modificare a piacimento la batchsize. Utilizzate x_train per il training e x_valid per la validazione."
      ]
    },
    {
      "cell_type": "code",
      "execution_count": 3,
      "metadata": {
        "id": "eMU4M2_Ty18E"
      },
      "outputs": [],
      "source": [
        "def generator(dataset,batchsize,moves=10):\n",
        "  while True:\n",
        "    rand = np.random.randint(dataset.shape[0],size=batchsize)\n",
        "    y_truth = dataset[rand]\n",
        "    blurred = np.copy(y_truth)\n",
        "    moving = tf.expand_dims(y_truth,axis=-1)\n",
        "\n",
        "    for i in range(moves):\n",
        "      #RandomTranslation requires a channel axis\n",
        "      moving = layers.RandomTranslation(0.07,0.07,fill_mode='constant',interpolation='bilinear')(moving)\n",
        "      blurred = blurred + tf.squeeze(moving)\n",
        "    blurred = blurred/(moves+1)\n",
        "    yield(blurred,y_truth)\n"
      ]
    },
    {
      "cell_type": "code",
      "execution_count": null,
      "metadata": {
        "id": "yUHecGrg7y9n"
      },
      "outputs": [],
      "source": [
        "my_gen = generator(x_train,5)"
      ]
    },
    {
      "cell_type": "code",
      "execution_count": 4,
      "metadata": {
        "id": "2cg2crUI2a0W"
      },
      "outputs": [],
      "source": [
        "def plot(x,y):\n",
        "  no = x.shape[0]\n",
        "  print(no)\n",
        "  plt.figure(figsize=(2*no, 4))\n",
        "  for i in range(no):\n",
        "    # display original\n",
        "    ax = plt.subplot(2, no, i + 1)\n",
        "    plt.imshow(x[i])\n",
        "    plt.gray()\n",
        "    ax.get_xaxis().set_visible(False)\n",
        "    ax.get_yaxis().set_visible(False)\n",
        "\n",
        "    # display reconstruction\n",
        "    ax = plt.subplot(2, no, i + 1 + no)\n",
        "    plt.imshow(y[i])\n",
        "    plt.gray()\n",
        "    ax.get_xaxis().set_visible(False)\n",
        "    ax.get_yaxis().set_visible(False)\n",
        "  plt.show()"
      ]
    },
    {
      "cell_type": "markdown",
      "metadata": {
        "id": "lVt0nxCeEfVJ"
      },
      "source": [
        "Qui potete vedere alcuni esempi restituiti dal generatore\n",
        "Here we plot some examples. In the first row you see the blurred image, and in the second the original image, that is the ground truth that you are suppose to obtain through deblurring."
      ]
    },
    {
      "cell_type": "code",
      "execution_count": null,
      "metadata": {
        "colab": {
          "base_uri": "https://localhost:8080/",
          "height": 355
        },
        "id": "6CtE9rzb78Hg",
        "outputId": "c7edbf91-b8a7-4534-8943-c67a54301651"
      },
      "outputs": [
        {
          "name": "stdout",
          "output_type": "stream",
          "text": [
            "5\n"
          ]
        },
        {
          "data": {
            "image/png": "[encoded data removed]",
            "text/plain": [
              "<Figure size 1000x400 with 10 Axes>"
            ]
          },
          "metadata": {},
          "output_type": "display_data"
        }
      ],
      "source": [
        "test_x,test_y = next(my_gen)\n",
        "plot(test_x,test_y)"
      ]
    },
    {
      "cell_type": "code",
      "execution_count": null,
      "metadata": {
        "colab": {
          "base_uri": "https://localhost:8080/"
        },
        "id": "e_3BnJWouY4Y",
        "outputId": "3f27066c-5d51-4805-c667-c5d6b9f3ec07"
      },
      "outputs": [
        {
          "name": "stdout",
          "output_type": "stream",
          "text": [
            "Mounted at /content/drive\n"
          ]
        }
      ],
      "source": [
        "from google.colab import drive\n",
        "mount_path = '/content/drive'\n",
        "drive.mount(mount_path)\n",
        "save_path = mount_path + '/MyDrive/modelsWeights'"
      ]
    },
    {
      "cell_type": "markdown",
      "metadata": {
        "id": "pcLONcRQoPh8"
      },
      "source": [
        "definizione del modello"
      ]
    },
    {
      "cell_type": "code",
      "execution_count": 7,
      "metadata": {
        "colab": {
          "base_uri": "https://localhost:8080/"
        },
        "id": "3x7QnxIeoQxQ",
        "outputId": "1299a3b4-7dd8-4af8-8892-bc3d9f328344"
      },
      "outputs": [
        {
          "name": "stdout",
          "output_type": "stream",
          "text": [
            "Model: \"autoencoder\"\n",
            "_________________________________________________________________\n",
            " Layer (type)                Output Shape              Param #   \n",
            "=================================================================\n",
            " encoder_input (InputLayer)  [(None, 28, 28, 1)]       0         \n",
            "                                                                 \n",
            " encoder (Functional)        (None, 64)                219968    \n",
            "                                                                 \n",
            " decoder (Functional)        (None, 28, 28, 1)         259905    \n",
            "                                                                 \n",
            "=================================================================\n",
            "Total params: 479873 (1.83 MB)\n",
            "Trainable params: 479489 (1.83 MB)\n",
            "Non-trainable params: 384 (1.50 KB)\n",
            "_________________________________________________________________\n"
          ]
        }
      ],
      "source": [
        "\n",
        "# iperparametri\n",
        "input_shape = (28, 28, 1)\n",
        "batch_size = 128\n",
        "kernel_size = 3\n",
        "latent_dim = 64\n",
        "layer_filters =  [32, 64]\n",
        "dropout_rate = 0.2  # Tasso di dropout da 0.2 a 0.5\n",
        "l2_reg = 0.001  # Coefficiente per la regolarizzazione L2\n",
        "learning_rate = 0.0005\n",
        "strides = 2\n",
        "\n",
        "# Definizione dell'encoder\n",
        "inputs = Input(shape=input_shape, name='encoder_input')\n",
        "x = inputs\n",
        "for filters in layer_filters:\n",
        "    x = Conv2D(filters=filters, kernel_size=kernel_size, strides=strides, activation='relu', padding='same',\n",
        "               kernel_regularizer=l2(l2_reg))(x)\n",
        "    x = BatchNormalization()(x)\n",
        "    x = Dropout(dropout_rate)(x)\n",
        "shape = K.int_shape(x)\n",
        "x = Flatten()(x)\n",
        "latent = Dense(latent_dim, name='latent_vector')(x)\n",
        "encoder = Model(inputs, latent, name='encoder')\n",
        "\n",
        "# Definizione del decoder\n",
        "latent_inputs = Input(shape=(latent_dim,), name='decoder_input')\n",
        "x = Dense(shape[1]*shape[2]*shape[3])(latent_inputs)\n",
        "x = Reshape((shape[1], shape[2], shape[3]))(x)\n",
        "for filters in layer_filters[::-1]:\n",
        "    x = Conv2DTranspose(filters=filters, kernel_size=kernel_size, strides=strides, activation='relu', padding='same',\n",
        "                        kernel_regularizer=l2(l2_reg))(x)\n",
        "    x = BatchNormalization()(x)\n",
        "    x = Dropout(dropout_rate)(x)\n",
        "outputs = Conv2DTranspose(filters=1, kernel_size=kernel_size, activation='sigmoid', padding='same', name='decoder_output')(x)\n",
        "decoder = Model(latent_inputs, outputs, name='decoder')\n",
        "\n",
        "\n",
        "optimizer = Adam(learning_rate=learning_rate)\n",
        "\n",
        "# Definizione dell'autoencoder\n",
        "autoencoder = Model(inputs, decoder(encoder(inputs)), name='autoencoder')\n",
        "autoencoder.compile(loss='mse', optimizer=optimizer, metrics=['accuracy'])\n",
        "autoencoder.summary()\n",
        "\n",
        "\n",
        "\n",
        "\n",
        "\n"
      ]
    },
    {
      "cell_type": "markdown",
      "metadata": {
        "id": "ziTEDyFDoltn"
      },
      "source": [
        "fase di training"
      ]
    },
    {
      "cell_type": "code",
      "execution_count": 8,
      "metadata": {
        "colab": {
          "base_uri": "https://localhost:8080/"
        },
        "id": "NmhJHBJsokPP",
        "outputId": "fe837aab-a388-4bd2-d8c9-a1178f4748cb"
      },
      "outputs": [
        {
          "name": "stdout",
          "output_type": "stream",
          "text": [
            "Epoch 1/100\n",
            "375/375 [==============================] - 15s 17ms/step - loss: 0.0835 - accuracy: 0.7857 - val_loss: 0.0961 - val_accuracy: 0.8090\n",
            "Epoch 2/100\n",
            "375/375 [==============================] - 5s 12ms/step - loss: 0.0089 - accuracy: 0.8148 - val_loss: 0.0169 - val_accuracy: 0.8147\n",
            "Epoch 3/100\n",
            "375/375 [==============================] - 5s 12ms/step - loss: 0.0067 - accuracy: 0.8150 - val_loss: 0.0042 - val_accuracy: 0.8155\n",
            "Epoch 4/100\n",
            "375/375 [==============================] - 5s 13ms/step - loss: 0.0059 - accuracy: 0.8151 - val_loss: 0.0038 - val_accuracy: 0.8156\n",
            "Epoch 5/100\n",
            "375/375 [==============================] - 5s 12ms/step - loss: 0.0054 - accuracy: 0.8152 - val_loss: 0.0036 - val_accuracy: 0.8156\n",
            "Epoch 6/100\n",
            "375/375 [==============================] - 5s 13ms/step - loss: 0.0052 - accuracy: 0.8152 - val_loss: 0.0035 - val_accuracy: 0.8156\n",
            "Epoch 7/100\n",
            "375/375 [==============================] - 5s 14ms/step - loss: 0.0050 - accuracy: 0.8152 - val_loss: 0.0035 - val_accuracy: 0.8156\n",
            "Epoch 8/100\n",
            "375/375 [==============================] - 5s 13ms/step - loss: 0.0049 - accuracy: 0.8152 - val_loss: 0.0035 - val_accuracy: 0.8156\n",
            "Epoch 9/100\n",
            "375/375 [==============================] - 6s 17ms/step - loss: 0.0047 - accuracy: 0.8152 - val_loss: 0.0032 - val_accuracy: 0.8156\n",
            "Epoch 10/100\n",
            "375/375 [==============================] - 5s 13ms/step - loss: 0.0047 - accuracy: 0.8152 - val_loss: 0.0032 - val_accuracy: 0.8156\n",
            "Epoch 11/100\n",
            "375/375 [==============================] - 5s 13ms/step - loss: 0.0046 - accuracy: 0.8153 - val_loss: 0.0031 - val_accuracy: 0.8156\n",
            "Epoch 12/100\n",
            "375/375 [==============================] - 5s 14ms/step - loss: 0.0046 - accuracy: 0.8153 - val_loss: 0.0032 - val_accuracy: 0.8156\n",
            "Epoch 13/100\n",
            "375/375 [==============================] - 5s 13ms/step - loss: 0.0046 - accuracy: 0.8153 - val_loss: 0.0033 - val_accuracy: 0.8156\n",
            "Epoch 14/100\n",
            "375/375 [==============================] - 5s 14ms/step - loss: 0.0045 - accuracy: 0.8153 - val_loss: 0.0032 - val_accuracy: 0.8156\n",
            "Epoch 15/100\n",
            "375/375 [==============================] - 5s 13ms/step - loss: 0.0045 - accuracy: 0.8153 - val_loss: 0.0030 - val_accuracy: 0.8156\n",
            "Epoch 16/100\n",
            "375/375 [==============================] - 5s 13ms/step - loss: 0.0044 - accuracy: 0.8153 - val_loss: 0.0034 - val_accuracy: 0.8156\n",
            "Epoch 17/100\n",
            "375/375 [==============================] - 5s 14ms/step - loss: 0.0044 - accuracy: 0.8153 - val_loss: 0.0032 - val_accuracy: 0.8156\n",
            "Epoch 18/100\n",
            "375/375 [==============================] - 5s 13ms/step - loss: 0.0043 - accuracy: 0.8153 - val_loss: 0.0031 - val_accuracy: 0.8156\n",
            "Epoch 19/100\n",
            "375/375 [==============================] - 5s 13ms/step - loss: 0.0043 - accuracy: 0.8153 - val_loss: 0.0030 - val_accuracy: 0.8156\n",
            "Epoch 20/100\n",
            "375/375 [==============================] - 5s 14ms/step - loss: 0.0043 - accuracy: 0.8153 - val_loss: 0.0030 - val_accuracy: 0.8156\n",
            "Epoch 21/100\n",
            "375/375 [==============================] - 5s 13ms/step - loss: 0.0043 - accuracy: 0.8153 - val_loss: 0.0029 - val_accuracy: 0.8156\n",
            "Epoch 22/100\n",
            "375/375 [==============================] - 5s 13ms/step - loss: 0.0043 - accuracy: 0.8153 - val_loss: 0.0030 - val_accuracy: 0.8156\n",
            "Epoch 23/100\n",
            "375/375 [==============================] - 5s 13ms/step - loss: 0.0042 - accuracy: 0.8153 - val_loss: 0.0029 - val_accuracy: 0.8156\n",
            "Epoch 24/100\n",
            "375/375 [==============================] - 5s 14ms/step - loss: 0.0042 - accuracy: 0.8153 - val_loss: 0.0029 - val_accuracy: 0.8156\n",
            "Epoch 25/100\n",
            "375/375 [==============================] - 5s 13ms/step - loss: 0.0042 - accuracy: 0.8153 - val_loss: 0.0030 - val_accuracy: 0.8156\n",
            "Epoch 26/100\n",
            "375/375 [==============================] - 5s 13ms/step - loss: 0.0042 - accuracy: 0.8153 - val_loss: 0.0028 - val_accuracy: 0.8156\n",
            "Epoch 27/100\n",
            "375/375 [==============================] - 5s 14ms/step - loss: 0.0041 - accuracy: 0.8153 - val_loss: 0.0029 - val_accuracy: 0.8156\n",
            "Epoch 28/100\n",
            "375/375 [==============================] - 5s 13ms/step - loss: 0.0042 - accuracy: 0.8153 - val_loss: 0.0031 - val_accuracy: 0.8156\n",
            "Epoch 29/100\n",
            "375/375 [==============================] - 5s 13ms/step - loss: 0.0041 - accuracy: 0.8153 - val_loss: 0.0031 - val_accuracy: 0.8156\n",
            "Epoch 30/100\n",
            "375/375 [==============================] - 5s 14ms/step - loss: 0.0042 - accuracy: 0.8153 - val_loss: 0.0030 - val_accuracy: 0.8156\n",
            "Epoch 31/100\n",
            "375/375 [==============================] - 5s 13ms/step - loss: 0.0041 - accuracy: 0.8153 - val_loss: 0.0030 - val_accuracy: 0.8156\n",
            "Epoch 32/100\n",
            "375/375 [==============================] - 5s 15ms/step - loss: 0.0041 - accuracy: 0.8153 - val_loss: 0.0031 - val_accuracy: 0.8156\n",
            "Epoch 33/100\n",
            "375/375 [==============================] - 5s 13ms/step - loss: 0.0041 - accuracy: 0.8153 - val_loss: 0.0029 - val_accuracy: 0.8156\n",
            "Epoch 34/100\n",
            "375/375 [==============================] - 5s 13ms/step - loss: 0.0041 - accuracy: 0.8153 - val_loss: 0.0032 - val_accuracy: 0.8156\n",
            "Epoch 35/100\n",
            "375/375 [==============================] - 5s 15ms/step - loss: 0.0040 - accuracy: 0.8153 - val_loss: 0.0030 - val_accuracy: 0.8156\n",
            "Epoch 36/100\n",
            "375/375 [==============================] - 5s 13ms/step - loss: 0.0040 - accuracy: 0.8153 - val_loss: 0.0031 - val_accuracy: 0.8156\n",
            "Epoch 37/100\n",
            "375/375 [==============================] - 5s 14ms/step - loss: 0.0040 - accuracy: 0.8153 - val_loss: 0.0029 - val_accuracy: 0.8156\n",
            "Epoch 38/100\n",
            "375/375 [==============================] - 5s 14ms/step - loss: 0.0040 - accuracy: 0.8153 - val_loss: 0.0028 - val_accuracy: 0.8156\n",
            "Epoch 39/100\n",
            "375/375 [==============================] - 5s 13ms/step - loss: 0.0040 - accuracy: 0.8153 - val_loss: 0.0027 - val_accuracy: 0.8156\n",
            "Epoch 40/100\n",
            "375/375 [==============================] - 5s 14ms/step - loss: 0.0040 - accuracy: 0.8153 - val_loss: 0.0027 - val_accuracy: 0.8156\n",
            "Epoch 41/100\n",
            "375/375 [==============================] - 5s 13ms/step - loss: 0.0040 - accuracy: 0.8153 - val_loss: 0.0031 - val_accuracy: 0.8156\n",
            "Epoch 42/100\n",
            "375/375 [==============================] - 5s 13ms/step - loss: 0.0040 - accuracy: 0.8153 - val_loss: 0.0029 - val_accuracy: 0.8156\n",
            "Epoch 43/100\n",
            "375/375 [==============================] - 5s 14ms/step - loss: 0.0040 - accuracy: 0.8153 - val_loss: 0.0028 - val_accuracy: 0.8156\n",
            "Epoch 44/100\n",
            "375/375 [==============================] - 5s 14ms/step - loss: 0.0040 - accuracy: 0.8153 - val_loss: 0.0029 - val_accuracy: 0.8156\n",
            "Epoch 45/100\n",
            "375/375 [==============================] - 5s 14ms/step - loss: 0.0040 - accuracy: 0.8153 - val_loss: 0.0027 - val_accuracy: 0.8156\n",
            "Epoch 46/100\n",
            "375/375 [==============================] - 5s 13ms/step - loss: 0.0040 - accuracy: 0.8153 - val_loss: 0.0028 - val_accuracy: 0.8156\n",
            "Epoch 47/100\n",
            "375/375 [==============================] - 5s 13ms/step - loss: 0.0040 - accuracy: 0.8153 - val_loss: 0.0028 - val_accuracy: 0.8156\n",
            "Epoch 48/100\n",
            "375/375 [==============================] - 5s 14ms/step - loss: 0.0039 - accuracy: 0.8153 - val_loss: 0.0028 - val_accuracy: 0.8156\n",
            "Epoch 49/100\n",
            "375/375 [==============================] - 5s 14ms/step - loss: 0.0039 - accuracy: 0.8153 - val_loss: 0.0030 - val_accuracy: 0.8156\n",
            "Epoch 50/100\n",
            "375/375 [==============================] - 5s 13ms/step - loss: 0.0039 - accuracy: 0.8153 - val_loss: 0.0028 - val_accuracy: 0.8156\n",
            "Epoch 51/100\n",
            "375/375 [==============================] - 5s 14ms/step - loss: 0.0040 - accuracy: 0.8153 - val_loss: 0.0028 - val_accuracy: 0.8156\n",
            "Epoch 52/100\n",
            "375/375 [==============================] - 5s 14ms/step - loss: 0.0039 - accuracy: 0.8153 - val_loss: 0.0028 - val_accuracy: 0.8156\n",
            "Epoch 53/100\n",
            "375/375 [==============================] - 5s 14ms/step - loss: 0.0039 - accuracy: 0.8153 - val_loss: 0.0029 - val_accuracy: 0.8156\n",
            "Epoch 54/100\n",
            "375/375 [==============================] - 5s 14ms/step - loss: 0.0039 - accuracy: 0.8153 - val_loss: 0.0029 - val_accuracy: 0.8156\n",
            "Epoch 55/100\n",
            "375/375 [==============================] - 5s 13ms/step - loss: 0.0039 - accuracy: 0.8153 - val_loss: 0.0027 - val_accuracy: 0.8156\n",
            "Epoch 56/100\n",
            "375/375 [==============================] - 5s 14ms/step - loss: 0.0039 - accuracy: 0.8153 - val_loss: 0.0028 - val_accuracy: 0.8156\n",
            "Epoch 57/100\n",
            "375/375 [==============================] - 5s 13ms/step - loss: 0.0039 - accuracy: 0.8153 - val_loss: 0.0028 - val_accuracy: 0.8156\n",
            "Epoch 58/100\n",
            "375/375 [==============================] - 5s 13ms/step - loss: 0.0039 - accuracy: 0.8153 - val_loss: 0.0028 - val_accuracy: 0.8156\n",
            "Epoch 59/100\n",
            "375/375 [==============================] - 5s 13ms/step - loss: 0.0039 - accuracy: 0.8153 - val_loss: 0.0028 - val_accuracy: 0.8156\n",
            "Epoch 60/100\n",
            "375/375 [==============================] - 5s 13ms/step - loss: 0.0039 - accuracy: 0.8153 - val_loss: 0.0027 - val_accuracy: 0.8156\n",
            "Epoch 61/100\n",
            "375/375 [==============================] - 5s 14ms/step - loss: 0.0039 - accuracy: 0.8153 - val_loss: 0.0032 - val_accuracy: 0.8156\n",
            "Epoch 62/100\n",
            "375/375 [==============================] - 5s 13ms/step - loss: 0.0039 - accuracy: 0.8153 - val_loss: 0.0027 - val_accuracy: 0.8156\n",
            "Epoch 63/100\n",
            "375/375 [==============================] - 5s 14ms/step - loss: 0.0039 - accuracy: 0.8153 - val_loss: 0.0027 - val_accuracy: 0.8156\n",
            "Epoch 64/100\n",
            "375/375 [==============================] - 5s 13ms/step - loss: 0.0039 - accuracy: 0.8153 - val_loss: 0.0029 - val_accuracy: 0.8156\n",
            "Epoch 65/100\n",
            "375/375 [==============================] - 5s 13ms/step - loss: 0.0039 - accuracy: 0.8153 - val_loss: 0.0031 - val_accuracy: 0.8156\n",
            "Epoch 66/100\n",
            "375/375 [==============================] - 5s 14ms/step - loss: 0.0039 - accuracy: 0.8153 - val_loss: 0.0027 - val_accuracy: 0.8156\n",
            "Epoch 67/100\n",
            "375/375 [==============================] - 5s 14ms/step - loss: 0.0039 - accuracy: 0.8153 - val_loss: 0.0027 - val_accuracy: 0.8156\n",
            "Epoch 68/100\n",
            "375/375 [==============================] - 5s 13ms/step - loss: 0.0039 - accuracy: 0.8153 - val_loss: 0.0027 - val_accuracy: 0.8156\n",
            "Epoch 69/100\n",
            "375/375 [==============================] - 5s 14ms/step - loss: 0.0039 - accuracy: 0.8153 - val_loss: 0.0027 - val_accuracy: 0.8156\n",
            "Epoch 70/100\n",
            "375/375 [==============================] - 5s 13ms/step - loss: 0.0039 - accuracy: 0.8153 - val_loss: 0.0026 - val_accuracy: 0.8156\n",
            "Epoch 71/100\n",
            "375/375 [==============================] - 5s 14ms/step - loss: 0.0039 - accuracy: 0.8153 - val_loss: 0.0027 - val_accuracy: 0.8156\n",
            "Epoch 72/100\n",
            "375/375 [==============================] - 5s 13ms/step - loss: 0.0038 - accuracy: 0.8153 - val_loss: 0.0028 - val_accuracy: 0.8156\n",
            "Epoch 73/100\n",
            "375/375 [==============================] - 5s 13ms/step - loss: 0.0039 - accuracy: 0.8153 - val_loss: 0.0029 - val_accuracy: 0.8156\n",
            "Epoch 74/100\n",
            "375/375 [==============================] - 5s 14ms/step - loss: 0.0038 - accuracy: 0.8153 - val_loss: 0.0027 - val_accuracy: 0.8156\n",
            "Epoch 75/100\n",
            "375/375 [==============================] - 5s 14ms/step - loss: 0.0039 - accuracy: 0.8153 - val_loss: 0.0027 - val_accuracy: 0.8156\n",
            "Epoch 76/100\n",
            "375/375 [==============================] - 5s 13ms/step - loss: 0.0039 - accuracy: 0.8153 - val_loss: 0.0027 - val_accuracy: 0.8156\n",
            "Epoch 77/100\n",
            "375/375 [==============================] - 5s 14ms/step - loss: 0.0038 - accuracy: 0.8153 - val_loss: 0.0027 - val_accuracy: 0.8156\n",
            "Epoch 78/100\n",
            "375/375 [==============================] - 5s 13ms/step - loss: 0.0038 - accuracy: 0.8153 - val_loss: 0.0027 - val_accuracy: 0.8156\n",
            "Epoch 79/100\n",
            "375/375 [==============================] - 5s 14ms/step - loss: 0.0038 - accuracy: 0.8153 - val_loss: 0.0027 - val_accuracy: 0.8156\n",
            "Epoch 80/100\n",
            "375/375 [==============================] - 5s 13ms/step - loss: 0.0038 - accuracy: 0.8153 - val_loss: 0.0028 - val_accuracy: 0.8156\n",
            "Epoch 81/100\n",
            "375/375 [==============================] - 5s 13ms/step - loss: 0.0038 - accuracy: 0.8153 - val_loss: 0.0027 - val_accuracy: 0.8156\n",
            "Epoch 82/100\n",
            "375/375 [==============================] - 5s 14ms/step - loss: 0.0038 - accuracy: 0.8153 - val_loss: 0.0027 - val_accuracy: 0.8156\n",
            "Epoch 83/100\n",
            "375/375 [==============================] - 5s 14ms/step - loss: 0.0038 - accuracy: 0.8153 - val_loss: 0.0030 - val_accuracy: 0.8156\n",
            "Epoch 84/100\n",
            "375/375 [==============================] - 5s 13ms/step - loss: 0.0038 - accuracy: 0.8153 - val_loss: 0.0027 - val_accuracy: 0.8156\n",
            "Epoch 85/100\n",
            "375/375 [==============================] - 5s 13ms/step - loss: 0.0038 - accuracy: 0.8153 - val_loss: 0.0027 - val_accuracy: 0.8156\n",
            "Epoch 86/100\n",
            "375/375 [==============================] - 5s 13ms/step - loss: 0.0038 - accuracy: 0.8153 - val_loss: 0.0027 - val_accuracy: 0.8156\n",
            "Epoch 87/100\n",
            "375/375 [==============================] - 5s 14ms/step - loss: 0.0038 - accuracy: 0.8153 - val_loss: 0.0027 - val_accuracy: 0.8156\n",
            "Epoch 88/100\n",
            "375/375 [==============================] - 5s 14ms/step - loss: 0.0038 - accuracy: 0.8153 - val_loss: 0.0027 - val_accuracy: 0.8156\n",
            "Epoch 89/100\n",
            "375/375 [==============================] - 5s 14ms/step - loss: 0.0038 - accuracy: 0.8153 - val_loss: 0.0027 - val_accuracy: 0.8156\n",
            "Epoch 90/100\n",
            "375/375 [==============================] - 5s 14ms/step - loss: 0.0038 - accuracy: 0.8153 - val_loss: 0.0026 - val_accuracy: 0.8156\n",
            "Epoch 91/100\n",
            "375/375 [==============================] - 5s 13ms/step - loss: 0.0038 - accuracy: 0.8153 - val_loss: 0.0027 - val_accuracy: 0.8156\n",
            "Epoch 92/100\n",
            "375/375 [==============================] - 5s 14ms/step - loss: 0.0038 - accuracy: 0.8153 - val_loss: 0.0026 - val_accuracy: 0.8156\n",
            "Epoch 93/100\n",
            "375/375 [==============================] - 5s 14ms/step - loss: 0.0038 - accuracy: 0.8153 - val_loss: 0.0027 - val_accuracy: 0.8156\n",
            "Epoch 94/100\n",
            "375/375 [==============================] - 5s 13ms/step - loss: 0.0038 - accuracy: 0.8153 - val_loss: 0.0026 - val_accuracy: 0.8156\n",
            "Epoch 95/100\n",
            "375/375 [==============================] - 5s 14ms/step - loss: 0.0038 - accuracy: 0.8153 - val_loss: 0.0027 - val_accuracy: 0.8156\n",
            "Epoch 96/100\n",
            "375/375 [==============================] - 5s 13ms/step - loss: 0.0038 - accuracy: 0.8153 - val_loss: 0.0027 - val_accuracy: 0.8156\n",
            "Epoch 97/100\n",
            "375/375 [==============================] - 5s 13ms/step - loss: 0.0038 - accuracy: 0.8153 - val_loss: 0.0029 - val_accuracy: 0.8156\n",
            "Epoch 98/100\n",
            "375/375 [==============================] - 5s 13ms/step - loss: 0.0038 - accuracy: 0.8153 - val_loss: 0.0027 - val_accuracy: 0.8156\n",
            "Epoch 99/100\n",
            "375/375 [==============================] - 5s 13ms/step - loss: 0.0038 - accuracy: 0.8153 - val_loss: 0.0027 - val_accuracy: 0.8156\n",
            "Epoch 100/100\n",
            "375/375 [==============================] - 5s 14ms/step - loss: 0.0039 - accuracy: 0.8153 - val_loss: 0.0026 - val_accuracy: 0.8156\n"
          ]
        }
      ],
      "source": [
        "LOAD_WEIGHTS = False\n",
        "\n",
        "if LOAD_WEIGHTS:\n",
        "  autoencoder.load_weights(save_path + '/pesi_autoencoder.h5')\n",
        "\n",
        "history = autoencoder.fit(x_train, x_train, epochs=100, batch_size=batch_size, validation_data=(x_valid, x_valid))\n",
        "\n"
      ]
    },
    {
      "cell_type": "markdown",
      "metadata": {
        "id": "rzkrRFqF32Dg"
      },
      "source": [
        "plotto i grafici della history"
      ]
    },
    {
      "cell_type": "code",
      "execution_count": 9,
      "metadata": {
        "colab": {
          "base_uri": "https://localhost:8080/",
          "height": 472
        },
        "id": "3LLgTOU-I1I7",
        "outputId": "93e654ab-dadf-4e23-d866-df61b49be83f"
      },
      "outputs": [
        {
          "data": {
            "image/png": "[encoded data removed]",
            "text/plain": [
              "<Figure size 640x480 with 1 Axes>"
            ]
          },
          "metadata": {},
          "output_type": "display_data"
        }
      ],
      "source": [
        "# Plot training & validation loss values\n",
        "plt.plot(history.history['loss'])\n",
        "plt.plot(history.history['val_loss'])\n",
        "plt.title('Model loss')\n",
        "plt.ylabel('Loss')\n",
        "plt.xlabel('Epoch')\n",
        "plt.legend(['Train', 'Valid'], loc='upper left')\n",
        "plt.show()"
      ]
    },
    {
      "cell_type": "markdown",
      "metadata": {
        "id": "9shcjxjKItXv"
      },
      "source": [
        "salvo i pesi della rete"
      ]
    },
    {
      "cell_type": "code",
      "execution_count": null,
      "metadata": {
        "id": "kZ0p-thX38D9"
      },
      "outputs": [],
      "source": [
        "autoencoder.save_weights(save_path + '/pesi_autoencoder.h5')\n"
      ]
    },
    {
      "cell_type": "markdown",
      "metadata": {
        "id": "7TbSJVKZEKig"
      },
      "source": [
        "# Valutazione\n",
        "\n",
        "Utilizzate Mean Squared Error (mse) per valutare l'errore tra l'immagine deblurred e la ground truth.\n",
        "\n",
        "Misurate l' mse su 10000 immagini blurred ottenute dal validation set.\n",
        "\n",
        "Ripetete la computazione precedente per 10 volte, e fornite come risutato la\n",
        "**media dei 10 round, unitamente alla deviazione standard**.\n"
      ]
    },
    {
      "cell_type": "code",
      "execution_count": 15,
      "metadata": {
        "colab": {
          "base_uri": "https://localhost:8080/"
        },
        "id": "Itwf16xNpM81",
        "outputId": "3b875ea3-6937-484a-c379-58c63c21d480"
      },
      "outputs": [
        {
          "name": "stdout",
          "output_type": "stream",
          "text": [
            "313/313 [==============================] - 1s 2ms/step\n",
            "313/313 [==============================] - 1s 2ms/step\n",
            "313/313 [==============================] - 1s 3ms/step\n",
            "313/313 [==============================] - 1s 3ms/step\n",
            "313/313 [==============================] - 1s 2ms/step\n",
            "313/313 [==============================] - 1s 2ms/step\n",
            "313/313 [==============================] - 1s 2ms/step\n",
            "313/313 [==============================] - 1s 2ms/step\n",
            "313/313 [==============================] - 1s 2ms/step\n",
            "313/313 [==============================] - 1s 2ms/step\n",
            "MSE Mean: 0.05368370935320854, MSE Std: 0.00026758076273836195\n"
          ]
        }
      ],
      "source": [
        "mse = MeanSquaredError()\n",
        "\n",
        "mse_values = []\n",
        "\n",
        "for _ in range(10):\n",
        "    \n",
        "    blurred_images, ground_truth_images = next(generator(x_valid.squeeze(), 10000))\n",
        "   \n",
        "    deblurred_images = autoencoder.predict(blurred_images).squeeze()\n",
        "   \n",
        "    error = mse(ground_truth_images, deblurred_images)\n",
        "\n",
        "    \n",
        "    mse_values.append(error)\n",
        "\n",
        "# Calcola la media e la deviazione standard dei valori MSE\n",
        "mse_mean = np.mean(mse_values)\n",
        "mse_std = np.std(mse_values)\n",
        "\n",
        "print(f'MSE Mean: {mse_mean}, MSE Std: {mse_std}')\n"
      ]
    },
    {
      "cell_type": "markdown",
      "metadata": {
        "id": "92YxyOukiu0_"
      },
      "source": [
        "di seguito faccio vedere dei plot di mie predizioni del modello confrontate con la corrispondente ground truth e immagini con blur"
      ]
    },
    {
      "cell_type": "code",
      "execution_count": 11,
      "metadata": {
        "colab": {
          "base_uri": "https://localhost:8080/",
          "height": 407
        },
        "id": "DeQhpN-Hi4NN",
        "outputId": "5d4ffa5a-bbce-4b7a-a688-edd0153735bb"
      },
      "outputs": [
        {
          "name": "stdout",
          "output_type": "stream",
          "text": [
            "1/1 [==============================] - 0s 172ms/step\n",
            "10\n"
          ]
        },
        {
          "data": {
            "image/png": "[encoded data removed]",
            "text/plain": [
              "<Figure size 2000x400 with 20 Axes>"
            ]
          },
          "metadata": {},
          "output_type": "display_data"
        },
        {
          "name": "stdout",
          "output_type": "stream",
          "text": [
            "10\n"
          ]
        },
        {
          "data": {
            "image/png": "[encoded data removed]",
            "text/plain": [
              "<Figure size 2000x400 with 20 Axes>"
            ]
          },
          "metadata": {},
          "output_type": "display_data"
        }
      ],
      "source": [
        "blurred_images, ground_truth_images = next(generator(x_valid.squeeze(), 10))\n",
        "deblurred_images = autoencoder.predict(blurred_images).squeeze()\n",
        "plot(blurred_images, deblurred_images)\n",
        "plot(deblurred_images, ground_truth_images)"
      ]
    },
    {
      "cell_type": "markdown",
      "metadata": {
        "id": "01Wj8Kx0We5S"
      },
      "source": [
        "# Cosa consegnare\n",
        "Il lavoro deve essere scolto in keras/tensorflow. Consegnate un singolo notebook dove dovete conservare traccia del training.\n",
        "\n",
        "Discutete e motivate l'architettura finale, cosi come la scelta dei principali iperparametri."
      ]
    },
    {
      "cell_type": "markdown",
      "metadata": {
        "id": "xZlDUJZhk2wc"
      },
      "source": [
        "#architettura finale\n",
        "Nel progetto di deblurring di immagini, ho optato per l'impiego di un autoencoder, infatti questo modello é idoneo a questo compito poiché impara a codificare caratteristiche importanti nello spazio latente e a ricostruire l'output da questa rappresentazione codificata. È una scelta comune per compiti di ricostruzione delle immagini, inclusi il denoising e il deblurring.\n",
        "I vari layer convoluzionali sono stati efficaci nel catturare gerarchie spaziali e pattern nelle immagini.\n",
        "I layer densi invece sono stati responsabili della compressione e decompressione dei dati, permettendo all' autoencoder di apprendere rappresentazioni efficienti dei dati.\n",
        "Nei compiti di deblurring, aiutano il modello a comprendere e ricostruire i dettagli fini dell'immagine.\n",
        "Inizialmente, l'autoencoder era composto esclusivamente da layer convoluzionali e densi, ma i risultati non erano ottimali. Di conseguenza, ho apportato delle modifiche, integrando layer di Batch Normalization e Dropout, oltre a regolarizzatori l2. La Batch Normalization standardizza gli input di ogni strato, contribuendo a un processo di allenamento più stabile e veloce. Il Dropout, disattivando casualmente una frazione di neuroni, riduce la dipendenza del modello da specifici neuroni, mitigando il rischio di overfitting. I regolarizzatori l1 e l2 sono stati implementati per penalizzare i pesi eccessivamente grandi, ulteriormente prevenendo l'overfitting.\n",
        "#iperparametri\n",
        "Riguardo gli iperparametri, ho utilizzato valori standard per batch size, dropout_rate e l2_reg. Per la dimensione dello spazio latente, ho optato per un valore di 64. Ho constatato che incrementare ulteriormente questa dimensione rendeva la rete eccessivamente complessa per l'applicazione in questione. Per il learning rate, ho scelto un valore di 0.0005, leggermente inferiore allo standard di 0.001, dopo aver osservato miglioramenti nelle prestazioni del modello."
      ]
    },
    {
      "cell_type": "markdown",
      "metadata": {},
      "source": [
        "Giuseppe Spathis 0001043077"
      ]
    }
  ],
  "metadata": {
    "accelerator": "GPU",
    "colab": {
      "gpuType": "T4",
      "machine_shape": "hm",
      "provenance": []
    },
    "kernelspec": {
      "display_name": "Python 3",
      "name": "python3"
    },
    "language_info": {
      "name": "python"
    }
  },
  "nbformat": 4,
  "nbformat_minor": 0
}
